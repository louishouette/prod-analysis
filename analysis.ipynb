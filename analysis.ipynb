{
 "cells": [
  {
   "cell_type": "code",
   "execution_count": 1,
   "id": "2c47cddd-5f23-4ec9-8665-90b995d8c8a8",
   "metadata": {},
   "outputs": [
    {
     "name": "stdout",
     "output_type": "stream",
     "text": [
      "<class 'pandas.core.frame.DataFrame'>\n",
      "MultiIndex: 114 entries, ('A1;Chêne pubescent;69;1;1;01/03/24;1;1', '45;157;4;39', '25;2') to ('LP;Saule;16;4;4;31/03/21;0;0', '0;0;0;0;0', '0')\n",
      "Data columns (total 1 columns):\n",
      " #   Column                                                                                                                                                                         Non-Null Count  Dtype  \n",
      "---  ------                                                                                                                                                                         --------------  -----  \n",
      " 0   Parcelle;Espèce;Plants;Age;Age Brut;Dates de plantation;Plants Productifs;Taux de Productivité (%);Poids produit (g);Nombre de truffe;Poids moyen (g);Production au plant (g)  42 non-null     float64\n",
      "dtypes: float64(1)\n",
      "memory usage: 8.9+ KB\n",
      "None\n",
      "       Parcelle;Espèce;Plants;Age;Age Brut;Dates de plantation;Plants Productifs;Taux de Productivité (%);Poids produit (g);Nombre de truffe;Poids moyen (g);Production au plant (g)\n",
      "count                                          42.000000                                                                                                                            \n",
      "mean                                           45.642857                                                                                                                            \n",
      "std                                            26.832653                                                                                                                            \n",
      "min                                             3.000000                                                                                                                            \n",
      "25%                                            24.250000                                                                                                                            \n",
      "50%                                            41.000000                                                                                                                            \n",
      "75%                                            71.000000                                                                                                                            \n",
      "max                                            91.000000                                                                                                                            \n"
     ]
    }
   ],
   "source": [
    "# notebook_cell_1\n",
    "import pandas as pd\n",
    "import seaborn as sns\n",
    "import matplotlib.pyplot as plt\n",
    "\n",
    "# Setup\n",
    "sns.set(style=\"whitegrid\")\n",
    "\n",
    "# Load the data\n",
    "df = pd.read_csv(\"export-bilan.csv\")\n",
    "\n",
    "# Quick check\n",
    "print(df.info())\n",
    "print(df.describe())\n"
   ]
  },
  {
   "cell_type": "code",
   "execution_count": null,
   "id": "49b7257f-e2bc-4af0-8935-a7aa9bb36bcc",
   "metadata": {},
   "outputs": [],
   "source": []
  }
 ],
 "metadata": {
  "kernelspec": {
   "display_name": "Python 3 (ipykernel)",
   "language": "python",
   "name": "python3"
  },
  "language_info": {
   "codemirror_mode": {
    "name": "ipython",
    "version": 3
   },
   "file_extension": ".py",
   "mimetype": "text/x-python",
   "name": "python",
   "nbconvert_exporter": "python",
   "pygments_lexer": "ipython3",
   "version": "3.10.16"
  }
 },
 "nbformat": 4,
 "nbformat_minor": 5
}
